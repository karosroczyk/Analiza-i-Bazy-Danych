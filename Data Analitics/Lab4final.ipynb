{
 "cells": [
  {
   "cell_type": "code",
   "execution_count": 1,
   "metadata": {},
   "outputs": [],
   "source": [
    "import sys\n",
    "sys.path.append('../')\n",
    "import pystan\n",
    "import stan_utility\n",
    "\n",
    "import arviz as az\n",
    "import numpy as np\n",
    "import scipy.stats as stats\n",
    "import pandas as pd\n",
    "import matplotlib.pyplot as plt"
   ]
  },
  {
   "cell_type": "markdown",
   "metadata": {},
   "source": [
    "Zad 1"
   ]
  },
  {
   "cell_type": "markdown",
   "metadata": {},
   "source": [
    "* Gamma prior distribution"
   ]
  },
  {
   "cell_type": "code",
   "execution_count": 46,
   "metadata": {},
   "outputs": [
    {
     "name": "stdout",
     "output_type": "stream",
     "text": [
      "data {\n",
      "\tvector[2] params; \n",
      "}\n",
      "\n",
      "generated quantities {\n",
      "  real y = gamma_rng (params[1], params[2]);\n",
      "}\n"
     ]
    }
   ],
   "source": [
    "with open('my_model_prior.stan', 'r') as file:\n",
    "    print(file.read())"
   ]
  },
  {
   "cell_type": "code",
   "execution_count": 47,
   "metadata": {},
   "outputs": [
    {
     "name": "stderr",
     "output_type": "stream",
     "text": [
      "INFO:pystan:COMPILING THE C++ CODE FOR MODEL anon_model_656bbc4d88987fb6fc8bd7adc5eb5943 NOW.\n"
     ]
    }
   ],
   "source": [
    "from pystan import StanModel\n",
    "tuning2 = StanModel('my_model_prior.stan')\n",
    "\n",
    "params = [1, 2]\n",
    "data=dict(params = params)\n",
    "tuned2 = tuning2.sampling(data=data,\n",
    "                          seed=1052020,\n",
    "                          algorithm=\"Fixed_param\",\n",
    "                          iter=1000, \n",
    "                          warmup=0,\n",
    "                          chains=1)"
   ]
  },
  {
   "cell_type": "code",
   "execution_count": 49,
   "metadata": {},
   "outputs": [
    {
     "data": {
      "image/png": "[encoded data removed]",
      "text/plain": [
       "<Figure size 432x288 with 1 Axes>"
      ]
     },
     "metadata": {
      "needs_background": "light"
     },
     "output_type": "display_data"
    }
   ],
   "source": [
    "samples = np.random.gamma(params[0], params[1], 1000)\n",
    "count, bins, ignored = plt.hist(samples, 100, density=True, cumulative=False)\n",
    "plt.title('Gamma distribution')\n",
    "plt.grid()\n",
    "plt.xlabel('x')\n",
    "plt.ylabel('f(x)')\n",
    "plt.show()"
   ]
  },
  {
   "cell_type": "markdown",
   "metadata": {},
   "source": [
    "* Gamma likelihood distribution"
   ]
  },
  {
   "cell_type": "code",
   "execution_count": 43,
   "metadata": {},
   "outputs": [
    {
     "name": "stdout",
     "output_type": "stream",
     "text": [
      "functions {\n",
      "\n",
      "  vector tail_delta(vector y, vector params, real[] x_r, int[] x_i) {\n",
      "    vector[3] deltas;\n",
      "    deltas[1] = gamma_cdf(params[1], exp(y[1]), exp(y[2])) - exp(y[3]);\n",
      "\tdeltas[2] = gamma_cdf(params[2], exp(y[1]), exp(y[2])) - exp(y[3]) - 0.98;\n",
      "    deltas[3] = exp(y[1])/exp(y[2]) - 7;\n",
      "    return deltas;\n",
      "  }\n",
      "}\n",
      "\n",
      "data {\n",
      "  vector[3] y_guess;\n",
      "  vector[2] params; \n",
      "}\n",
      "\n",
      "transformed data {\n",
      "\n",
      "  vector[3] y;\n",
      "  real x_r[0];\n",
      "  int x_i[0];\n",
      "\n",
      "  y = algebra_solver(tail_delta, y_guess, params, x_r, x_i);\n",
      "}\n",
      "\n",
      "generated quantities {\n",
      "    real alpha = exp(y[1]);\n",
      "    real beta = exp(y[2]);\n",
      "}\n"
     ]
    }
   ],
   "source": [
    "with open('my_model.stan', 'r') as file:\n",
    "    print(file.read())"
   ]
  },
  {
   "cell_type": "code",
   "execution_count": 39,
   "metadata": {},
   "outputs": [
    {
     "name": "stdout",
     "output_type": "stream",
     "text": [
      "[ 5 10]\n"
     ]
    }
   ],
   "source": [
    "params = np.array([5, 10])\n",
    "y_guess = np.array([np.log(8), np.log(1), np.log(0.09)])\n",
    "print(params)"
   ]
  },
  {
   "cell_type": "code",
   "execution_count": 40,
   "metadata": {},
   "outputs": [
    {
     "name": "stderr",
     "output_type": "stream",
     "text": [
      "INFO:pystan:COMPILING THE C++ CODE FOR MODEL anon_model_3d63282d111f9c2774b6038d62b25d92 NOW.\n"
     ]
    }
   ],
   "source": [
    "from pystan import StanModel\n",
    "tuning2 = StanModel('my_model.stan')\n",
    "\n",
    "data=dict(y_guess = y_guess, params = params)\n",
    "tuned2 = tuning2.sampling(data=data,\n",
    "                          seed=1052020,\n",
    "                          algorithm=\"Fixed_param\",\n",
    "                          iter=1000, \n",
    "                          warmup=0,\n",
    "                          chains=1)"
   ]
  },
  {
   "cell_type": "code",
   "execution_count": 41,
   "metadata": {},
   "outputs": [
    {
     "name": "stdout",
     "output_type": "stream",
     "text": [
      "47.0\n",
      "7.0\n"
     ]
    }
   ],
   "source": [
    "alpha = np.round(tuned2.extract()['alpha'][0])\n",
    "print(alpha)\n",
    "beta = np.round(tuned2.extract()['beta'][0])\n",
    "print(beta)"
   ]
  },
  {
   "cell_type": "code",
   "execution_count": 42,
   "metadata": {},
   "outputs": [
    {
     "data": {
      "image/png": "[encoded data removed]",
      "text/plain": [
       "<Figure size 432x288 with 1 Axes>"
      ]
     },
     "metadata": {
      "needs_background": "light"
     },
     "output_type": "display_data"
    }
   ],
   "source": [
    "samples = np.random.gamma(alpha, beta, 1000)\n",
    "count, bins, ignored = plt.hist(samples, 100, density=True, cumulative=False)\n",
    "plt.title('Gamma distribution')\n",
    "plt.grid()\n",
    "plt.xlabel('x')\n",
    "plt.ylabel('f(x)')\n",
    "plt.show()"
   ]
  },
  {
   "cell_type": "markdown",
   "metadata": {},
   "source": [
    "* invGamma prior distribution"
   ]
  },
  {
   "cell_type": "code",
   "execution_count": 68,
   "metadata": {},
   "outputs": [
    {
     "name": "stdout",
     "output_type": "stream",
     "text": [
      "data {\n",
      "\tvector[2] params; \n",
      "}\n",
      "\n",
      "generated quantities {\n",
      "  real y = inv_gamma_rng (params[1], params[2]);\n",
      "}\n"
     ]
    }
   ],
   "source": [
    "with open('inv-gamma-prior.stan', 'r') as file:\n",
    "    print(file.read())"
   ]
  },
  {
   "cell_type": "code",
   "execution_count": 69,
   "metadata": {},
   "outputs": [
    {
     "name": "stderr",
     "output_type": "stream",
     "text": [
      "INFO:pystan:COMPILING THE C++ CODE FOR MODEL anon_model_505ce17ab424a3cfab8dabcdda6344c4 NOW.\n"
     ]
    }
   ],
   "source": [
    "from pystan import StanModel\n",
    "tuning2 = StanModel('inv-gamma-prior.stan')\n",
    "\n",
    "params = [1, 2]\n",
    "data=dict(params = params)\n",
    "tuned2 = tuning2.sampling(data=data,\n",
    "                          seed=1052020,\n",
    "                          algorithm=\"Fixed_param\",\n",
    "                          iter=1000, \n",
    "                          warmup=0,\n",
    "                          chains=1)"
   ]
  },
  {
   "cell_type": "markdown",
   "metadata": {},
   "source": [
    "* Inv_gamma likelihood distribution"
   ]
  },
  {
   "cell_type": "code",
   "execution_count": 63,
   "metadata": {},
   "outputs": [
    {
     "name": "stdout",
     "output_type": "stream",
     "text": [
      "functions {\n",
      "\n",
      "  vector tail_delta(vector y, vector params, real[] x_r, int[] x_i) {\n",
      "    vector[3] deltas;\n",
      "\tdeltas[1] = inv_gamma_cdf(params[1], exp(y[1]), exp(y[2])) - exp(y[3]);\n",
      "    deltas[2] = inv_gamma_cdf(params[2], exp(y[1]), exp(y[2])) - exp(y[3]) - 0.98;\n",
      "    deltas[3] = exp(y[1])/exp(y[2]) - 7;\n",
      "    return deltas;\n",
      "  }\n",
      "}\n",
      "\n",
      "data {\n",
      "  vector[3] y_guess;\n",
      "  vector[2] params; \n",
      "}\n",
      "\n",
      "transformed data {\n",
      "\n",
      "  vector[3] y;\n",
      "  real x_r[0];\n",
      "  int x_i[0];\n",
      "\n",
      "  y = algebra_solver(tail_delta, y_guess, params, x_r, x_i);\n",
      "}\n",
      "\n",
      "generated quantities {\n",
      "    real alpha = exp(y[1]);\n",
      "    real beta = exp(y[2]);\n",
      "}\n"
     ]
    }
   ],
   "source": [
    "with open('inv-gamma.stan', 'r') as file:\n",
    "    print(file.read())"
   ]
  },
  {
   "cell_type": "code",
   "execution_count": 64,
   "metadata": {},
   "outputs": [
    {
     "name": "stdout",
     "output_type": "stream",
     "text": [
      "[ 5 10]\n"
     ]
    }
   ],
   "source": [
    "params = np.array([5, 10])\n",
    "y_guess = np.array([np.log(8), np.log(1), np.log(0.09)])\n",
    "print(params)"
   ]
  },
  {
   "cell_type": "code",
   "execution_count": 65,
   "metadata": {},
   "outputs": [
    {
     "name": "stderr",
     "output_type": "stream",
     "text": [
      "INFO:pystan:COMPILING THE C++ CODE FOR MODEL anon_model_20e1011456ffc659a451b9b49139a692 NOW.\n"
     ]
    },
    {
     "ename": "ValueError",
     "evalue": "Exception: Exception: inv_gamma_cdf: Shape parameter is nan, but must be > 0!  (in 'inv-gamma.stan' at line 5)\n  (in 'inv-gamma.stan' at line 23)\n",
     "output_type": "error",
     "traceback": [
      "\u001b[1;31m---------------------------------------------------------------------------\u001b[0m",
      "\u001b[1;31mValueError\u001b[0m                                Traceback (most recent call last)",
      "\u001b[1;32m<ipython-input-65-d638f7f74dc6>\u001b[0m in \u001b[0;36m<module>\u001b[1;34m\u001b[0m\n\u001b[0;32m      8\u001b[0m                           \u001b[0miter\u001b[0m\u001b[1;33m=\u001b[0m\u001b[1;36m1000\u001b[0m\u001b[1;33m,\u001b[0m\u001b[1;33m\u001b[0m\u001b[1;33m\u001b[0m\u001b[0m\n\u001b[0;32m      9\u001b[0m                           \u001b[0mwarmup\u001b[0m\u001b[1;33m=\u001b[0m\u001b[1;36m0\u001b[0m\u001b[1;33m,\u001b[0m\u001b[1;33m\u001b[0m\u001b[1;33m\u001b[0m\u001b[0m\n\u001b[1;32m---> 10\u001b[1;33m                           chains=1)\n\u001b[0m",
      "\u001b[1;32m~\\Anaconda3\\lib\\site-packages\\pystan\\model.py\u001b[0m in \u001b[0;36msampling\u001b[1;34m(self, data, pars, chains, iter, warmup, thin, seed, init, sample_file, diagnostic_file, verbose, algorithm, control, n_jobs, **kwargs)\u001b[0m\n\u001b[0;32m    756\u001b[0m                 \u001b[1;32mraise\u001b[0m \u001b[0mValueError\u001b[0m\u001b[1;33m(\u001b[0m\u001b[1;34m\"Warmup samples must be greater than 0 when adaptation is enabled (`adapt_engaged=True`)\"\u001b[0m\u001b[1;33m)\u001b[0m\u001b[1;33m\u001b[0m\u001b[1;33m\u001b[0m\u001b[0m\n\u001b[0;32m    757\u001b[0m         \u001b[0mseed\u001b[0m \u001b[1;33m=\u001b[0m \u001b[0mpystan\u001b[0m\u001b[1;33m.\u001b[0m\u001b[0mmisc\u001b[0m\u001b[1;33m.\u001b[0m\u001b[0m_check_seed\u001b[0m\u001b[1;33m(\u001b[0m\u001b[0mseed\u001b[0m\u001b[1;33m)\u001b[0m\u001b[1;33m\u001b[0m\u001b[1;33m\u001b[0m\u001b[0m\n\u001b[1;32m--> 758\u001b[1;33m         \u001b[0mfit\u001b[0m \u001b[1;33m=\u001b[0m \u001b[0mself\u001b[0m\u001b[1;33m.\u001b[0m\u001b[0mfit_class\u001b[0m\u001b[1;33m(\u001b[0m\u001b[0mdata\u001b[0m\u001b[1;33m,\u001b[0m \u001b[0mseed\u001b[0m\u001b[1;33m)\u001b[0m\u001b[1;33m\u001b[0m\u001b[1;33m\u001b[0m\u001b[0m\n\u001b[0m\u001b[0;32m    759\u001b[0m \u001b[1;33m\u001b[0m\u001b[0m\n\u001b[0;32m    760\u001b[0m         \u001b[0mm_pars\u001b[0m \u001b[1;33m=\u001b[0m \u001b[0mfit\u001b[0m\u001b[1;33m.\u001b[0m\u001b[0m_get_param_names\u001b[0m\u001b[1;33m(\u001b[0m\u001b[1;33m)\u001b[0m\u001b[1;33m\u001b[0m\u001b[1;33m\u001b[0m\u001b[0m\n",
      "\u001b[1;32mstanfit4anon_model_20e1011456ffc659a451b9b49139a692_2437723424313825699.pyx\u001b[0m in \u001b[0;36mstanfit4anon_model_20e1011456ffc659a451b9b49139a692_2437723424313825699.StanFit4Model.__cinit__\u001b[1;34m()\u001b[0m\n",
      "\u001b[1;31mValueError\u001b[0m: Exception: Exception: inv_gamma_cdf: Shape parameter is nan, but must be > 0!  (in 'inv-gamma.stan' at line 5)\n  (in 'inv-gamma.stan' at line 23)\n"
     ]
    }
   ],
   "source": [
    "from pystan import StanModel\n",
    "model = StanModel('inv-gamma.stan')\n",
    "\n",
    "data=dict(y_guess = y_guess, params = params)\n",
    "model = model.sampling(data=data,\n",
    "                          seed=1052020,\n",
    "                          algorithm=\"Fixed_param\",\n",
    "                          iter=1000, \n",
    "                          warmup=0,\n",
    "                          chains=1)"
   ]
  },
  {
   "cell_type": "code",
   "execution_count": 55,
   "metadata": {},
   "outputs": [
    {
     "name": "stdout",
     "output_type": "stream",
     "text": [
      "47.0\n",
      "7.0\n"
     ]
    }
   ],
   "source": [
    "alpha = np.round(model.extract()['alpha'][0])\n",
    "print(alpha)\n",
    "beta = np.round(model.extract()['beta'][0])\n",
    "print(beta)"
   ]
  },
  {
   "cell_type": "markdown",
   "metadata": {},
   "source": [
    "Zad 2"
   ]
  },
  {
   "cell_type": "code",
   "execution_count": 330,
   "metadata": {},
   "outputs": [
    {
     "name": "stdout",
     "output_type": "stream",
     "text": [
      "\n",
      "data {\n",
      "  real mu; \n",
      "  real phi;\n",
      "}\n",
      "\n",
      "generated quantities {\n",
      "  real y_neg_binomial = neg_binomial_2_cdf(1, mu, phi);\n",
      "  int y_poisson = poisson_rng(y_neg_binomial);\n",
      "}\n"
     ]
    }
   ],
   "source": [
    "with open('zad2.stan', 'r') as file:\n",
    "    print(file.read())"
   ]
  },
  {
   "cell_type": "code",
   "execution_count": 337,
   "metadata": {},
   "outputs": [
    {
     "name": "stderr",
     "output_type": "stream",
     "text": [
      "INFO:pystan:COMPILING THE C++ CODE FOR MODEL anon_model_9d61f8ce2a7baf8b9b5f17200c8e5402 NOW.\n"
     ]
    }
   ],
   "source": [
    "mu_ = 9\n",
    "phi_ = 0.1\n",
    "\n",
    "model = StanModel('zad2.stan')\n",
    "\n",
    "data=dict(mu = mu_, phi = phi_)\n",
    "model = model.sampling(data=data,\n",
    "                          seed=1052020,\n",
    "                          algorithm=\"Fixed_param\",\n",
    "                          iter=1000, \n",
    "                          warmup=0,\n",
    "                          chains=1)"
   ]
  },
  {
   "cell_type": "code",
   "execution_count": 339,
   "metadata": {},
   "outputs": [
    {
     "name": "stdout",
     "output_type": "stream",
     "text": [
      "0.8391649970110233\n",
      "2.0\n"
     ]
    }
   ],
   "source": [
    "print(model.extract()['y_neg_binomial'][0])\n",
    "print(model.extract()['y_poisson'][0])"
   ]
  },
  {
   "cell_type": "markdown",
   "metadata": {},
   "source": [
    "Zad 3"
   ]
  },
  {
   "cell_type": "code",
   "execution_count": 388,
   "metadata": {},
   "outputs": [
    {
     "name": "stdout",
     "output_type": "stream",
     "text": [
      "data {\n",
      "  vector[3] params; \n",
      "}\n",
      "\n",
      "parameters {\n",
      "  real X;\n",
      "}\n",
      "\n",
      "model {\n",
      "\n",
      "X ~ student_t(params[1], params[2], params[3]);\n",
      "\n",
      "}\n"
     ]
    }
   ],
   "source": [
    "with open('student_t.stan', 'r') as file:\n",
    "    print(file.read())"
   ]
  },
  {
   "cell_type": "code",
   "execution_count": null,
   "metadata": {},
   "outputs": [
    {
     "name": "stderr",
     "output_type": "stream",
     "text": [
      "INFO:pystan:COMPILING THE C++ CODE FOR MODEL anon_model_b618f43a0e8907c9590ec61cdaeff384 NOW.\n"
     ]
    }
   ],
   "source": [
    "params = [1, 2, 5]\n",
    "\n",
    "model = StanModel('student_t.stan')\n",
    "data=dict(params = params)\n",
    "model = model.sampling(data=data,\n",
    "                          seed=1052020,\n",
    "                          algorithm=\"Fixed_param\",\n",
    "                          iter=1000, \n",
    "                          warmup=0,\n",
    "                          chains=1)"
   ]
  },
  {
   "cell_type": "code",
   "execution_count": null,
   "metadata": {},
   "outputs": [],
   "source": []
  }
 ],
 "metadata": {
  "kernelspec": {
   "display_name": "Python 3",
   "language": "python",
   "name": "python3"
  },
  "language_info": {
   "codemirror_mode": {
    "name": "ipython",
    "version": 3
   },
   "file_extension": ".py",
   "mimetype": "text/x-python",
   "name": "python",
   "nbconvert_exporter": "python",
   "pygments_lexer": "ipython3",
   "version": "3.7.6"
  }
 },
 "nbformat": 4,
 "nbformat_minor": 4
}
