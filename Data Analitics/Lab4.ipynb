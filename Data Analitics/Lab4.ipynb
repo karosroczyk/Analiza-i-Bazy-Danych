{
 "cells": [
  {
   "cell_type": "code",
   "execution_count": 170,
   "metadata": {},
   "outputs": [],
   "source": [
    "import pandas as pd\n",
    "import numpy as np\n",
    "from pystan import StanModel\n",
    "import matplotlib.pyplot as plt\n",
    "import scipy.stats as stats\n",
    "import arviz as az"
   ]
  },
  {
   "cell_type": "code",
   "execution_count": 171,
   "metadata": {},
   "outputs": [
    {
     "data": {
      "text/html": [
       "<div>\n",
       "<style scoped>\n",
       "    .dataframe tbody tr th:only-of-type {\n",
       "        vertical-align: middle;\n",
       "    }\n",
       "\n",
       "    .dataframe tbody tr th {\n",
       "        vertical-align: top;\n",
       "    }\n",
       "\n",
       "    .dataframe thead th {\n",
       "        text-align: right;\n",
       "    }\n",
       "</style>\n",
       "<table border=\"1\" class=\"dataframe\">\n",
       "  <thead>\n",
       "    <tr style=\"text-align: right;\">\n",
       "      <th></th>\n",
       "      <th>Year</th>\n",
       "      <th>Fatal accidents</th>\n",
       "      <th>Passenger deaths</th>\n",
       "      <th>Death rate</th>\n",
       "      <th>Miles flown [100 mln miles]</th>\n",
       "    </tr>\n",
       "  </thead>\n",
       "  <tbody>\n",
       "    <tr>\n",
       "      <th>0</th>\n",
       "      <td>1976</td>\n",
       "      <td>24</td>\n",
       "      <td>734</td>\n",
       "      <td>0.19</td>\n",
       "      <td>3863.0</td>\n",
       "    </tr>\n",
       "    <tr>\n",
       "      <th>1</th>\n",
       "      <td>1977</td>\n",
       "      <td>25</td>\n",
       "      <td>516</td>\n",
       "      <td>0.12</td>\n",
       "      <td>4300.0</td>\n",
       "    </tr>\n",
       "    <tr>\n",
       "      <th>2</th>\n",
       "      <td>1978</td>\n",
       "      <td>31</td>\n",
       "      <td>754</td>\n",
       "      <td>0.15</td>\n",
       "      <td>5027.0</td>\n",
       "    </tr>\n",
       "    <tr>\n",
       "      <th>3</th>\n",
       "      <td>1979</td>\n",
       "      <td>31</td>\n",
       "      <td>877</td>\n",
       "      <td>0.16</td>\n",
       "      <td>5481.0</td>\n",
       "    </tr>\n",
       "    <tr>\n",
       "      <th>4</th>\n",
       "      <td>1980</td>\n",
       "      <td>22</td>\n",
       "      <td>814</td>\n",
       "      <td>0.14</td>\n",
       "      <td>5814.0</td>\n",
       "    </tr>\n",
       "    <tr>\n",
       "      <th>5</th>\n",
       "      <td>1981</td>\n",
       "      <td>21</td>\n",
       "      <td>362</td>\n",
       "      <td>0.06</td>\n",
       "      <td>6033.0</td>\n",
       "    </tr>\n",
       "    <tr>\n",
       "      <th>6</th>\n",
       "      <td>1982</td>\n",
       "      <td>26</td>\n",
       "      <td>764</td>\n",
       "      <td>0.13</td>\n",
       "      <td>5877.0</td>\n",
       "    </tr>\n",
       "    <tr>\n",
       "      <th>7</th>\n",
       "      <td>1983</td>\n",
       "      <td>20</td>\n",
       "      <td>809</td>\n",
       "      <td>0.13</td>\n",
       "      <td>6223.0</td>\n",
       "    </tr>\n",
       "    <tr>\n",
       "      <th>8</th>\n",
       "      <td>1984</td>\n",
       "      <td>16</td>\n",
       "      <td>223</td>\n",
       "      <td>0.03</td>\n",
       "      <td>7433.0</td>\n",
       "    </tr>\n",
       "    <tr>\n",
       "      <th>9</th>\n",
       "      <td>1985</td>\n",
       "      <td>22</td>\n",
       "      <td>1066</td>\n",
       "      <td>0.15</td>\n",
       "      <td>7107.0</td>\n",
       "    </tr>\n",
       "  </tbody>\n",
       "</table>\n",
       "</div>"
      ],
      "text/plain": [
       "   Year   Fatal accidents   Passenger deaths   Death rate  \\\n",
       "0  1976                24                734         0.19   \n",
       "1  1977                25                516         0.12   \n",
       "2  1978                31                754         0.15   \n",
       "3  1979                31                877         0.16   \n",
       "4  1980                22                814         0.14   \n",
       "5  1981                21                362         0.06   \n",
       "6  1982                26                764         0.13   \n",
       "7  1983                20                809         0.13   \n",
       "8  1984                16                223         0.03   \n",
       "9  1985                22               1066         0.15   \n",
       "\n",
       "   Miles flown [100 mln miles]  \n",
       "0                       3863.0  \n",
       "1                       4300.0  \n",
       "2                       5027.0  \n",
       "3                       5481.0  \n",
       "4                       5814.0  \n",
       "5                       6033.0  \n",
       "6                       5877.0  \n",
       "7                       6223.0  \n",
       "8                       7433.0  \n",
       "9                       7107.0  "
      ]
     },
     "execution_count": 171,
     "metadata": {},
     "output_type": "execute_result"
    }
   ],
   "source": [
    "read_data = pd.read_csv(r'fatal_accidents.csv')\n",
    "read_data"
   ]
  },
  {
   "cell_type": "markdown",
   "metadata": {},
   "source": [
    "### Exercise 1"
   ]
  },
  {
   "cell_type": "markdown",
   "metadata": {},
   "source": [
    "The rate is constant for all years and not depending on anything."
   ]
  },
  {
   "cell_type": "markdown",
   "metadata": {},
   "source": [
    "* Prior distribution for constant accidents rate"
   ]
  },
  {
   "cell_type": "markdown",
   "metadata": {},
   "source": [
    "Firstly, we want to create Poisson distribution with constant rate(lambda), which is not dependent on any other parameter. We can calculate lambda by solving polynomial equation. We are looking for lambda parameter for which is less then 1% of probability that 2 passangers will die per day."
   ]
  },
  {
   "cell_type": "code",
   "execution_count": 172,
   "metadata": {},
   "outputs": [
    {
     "name": "stdout",
     "output_type": "stream",
     "text": [
      "Root: [653.]\n"
     ]
    }
   ],
   "source": [
    "root_of_lam=np.polynomial.polynomial.polyroots([-730.,3.,1.])\n",
    "lam_ub=np.round(root_of_lam[root_of_lam>0]**2)\n",
    "print(\"Root: \"+ str(lam_ub))"
   ]
  },
  {
   "cell_type": "markdown",
   "metadata": {},
   "source": [
    "Below we can see stan model of half-normal distribution (-0,5). That model give us 99% of probability that less than 2 people are dying because of aircraft disaster everyday. Our prior need to have probability of lambda equal to 99%."
   ]
  },
  {
   "cell_type": "code",
   "execution_count": 173,
   "metadata": {},
   "outputs": [
    {
     "name": "stdout",
     "output_type": "stream",
     "text": [
      "functions {\n",
      "  vector tail_delta(vector y, vector theta, real[] x_r, int[] x_i) {\n",
      "    vector[1] deltas;\n",
      "    deltas[1] = 2 * (normal_cdf(theta[1], 0, exp(y[1])) - 0.5) - 0.99;\n",
      "    return deltas;\n",
      "  }\n",
      "}\n",
      "\n",
      "data {\n",
      "  vector[1] y_guess; \n",
      "  vector[1] theta;\n",
      "}\n",
      "\n",
      "transformed data {\n",
      "\n",
      "  vector[1] y;\n",
      "  real x_r[0];\n",
      "  int x_i[0];\n",
      "\n",
      "  y = algebra_solver(tail_delta, y_guess, theta, x_r, x_i);\n",
      "}\n",
      "\n",
      "generated quantities {\n",
      "  real sigma = exp(y[1]);\n",
      "}\n"
     ]
    }
   ],
   "source": [
    "with open('zad1.stan', 'r') as file:\n",
    "    print(file.read())"
   ]
  },
  {
   "cell_type": "code",
   "execution_count": 176,
   "metadata": {},
   "outputs": [
    {
     "name": "stderr",
     "output_type": "stream",
     "text": [
      "INFO:pystan:COMPILING THE C++ CODE FOR MODEL anon_model_d2883caa00e87b52d6a3c385661ce469 NOW.\n"
     ]
    }
   ],
   "source": [
    "model_prior_no_params = StanModel('zad1.stan')\n",
    "data = {'y_guess': np.array([np.log(565)]), 'theta': np.array([653])}\n",
    "modelmodel_prior_no_params_val = model_prior_no_params.sampling(data=data,seed=1052020,algorithm=\"Fixed_param\",iter=1000, warmup=0,chains=1)"
   ]
  },
  {
   "cell_type": "code",
   "execution_count": 177,
   "metadata": {},
   "outputs": [
    {
     "name": "stdout",
     "output_type": "stream",
     "text": [
      "Sigma: 253.51058748353978\n"
     ]
    }
   ],
   "source": [
    "sigma = modelmodel_prior_no_params_val.extract()['sigma'][0]\n",
    "print(\"Sigma: \" + str(sigma))"
   ]
  },
  {
   "cell_type": "markdown",
   "metadata": {},
   "source": [
    "Our model calculations shows that having half-normal distribution in range between (0, 253) will quarantee that only there will only be 1% of probability of more that 2 passangers deaths per day. "
   ]
  },
  {
   "cell_type": "code",
   "execution_count": 178,
   "metadata": {},
   "outputs": [
    {
     "data": {
      "image/png": "[encoded data removed]",
      "text/plain": [
       "<Figure size 432x288 with 1 Axes>"
      ]
     },
     "metadata": {
      "needs_background": "light"
     },
     "output_type": "display_data"
    }
   ],
   "source": [
    "fig, ax2 = plt.subplots(1, 1)\n",
    "x2=np.linspace(0,3*sigma,1000)\n",
    "x4=np.linspace(0,lam_ub[0],1000)\n",
    "ax2.plot(x2,2*stats.norm.pdf(x2,scale=sigma))\n",
    "ax2.fill_between(x4,2*stats.norm.pdf(x4,scale=sigma),0)\n",
    "ax2.set_xticks([0,lam_ub[0]])\n",
    "ax2.set_title(r'$\\lambda$')\n",
    "plt.show()"
   ]
  },
  {
   "cell_type": "markdown",
   "metadata": {},
   "source": [
    "* Prior predictive distribution based on prior information (number of years)"
   ]
  },
  {
   "cell_type": "markdown",
   "metadata": {},
   "source": [
    "Below, we model our distribution with assumption that normal distribution have previously calculated lambda value equal to 253. Half-normal distribution with interval (0, 253) will guarantee us 99% of probability below 653."
   ]
  },
  {
   "cell_type": "code",
   "execution_count": 180,
   "metadata": {},
   "outputs": [
    {
     "name": "stdout",
     "output_type": "stream",
     "text": [
      "data {\n",
      "  int M;\n",
      "}\n",
      "\n",
      "generated quantities {\n",
      "  real lambda=fabs(normal_rng(0,253));\n",
      "  int y_sim[M];\n",
      "  for (k in 1:M) {\n",
      "    y_sim[k] = poisson_rng(lambda);\n",
      "  }\n",
      "}\n",
      "\n"
     ]
    }
   ],
   "source": [
    "with open('zad1B.stan', 'r') as file:\n",
    "    print(file.read())"
   ]
  },
  {
   "cell_type": "code",
   "execution_count": 181,
   "metadata": {},
   "outputs": [
    {
     "name": "stderr",
     "output_type": "stream",
     "text": [
      "INFO:pystan:COMPILING THE C++ CODE FOR MODEL anon_model_b41912afb85f2a45d9045263f16dadd2 NOW.\n"
     ]
    }
   ],
   "source": [
    "model_prior_params = StanModel('zad1B.stan')\n",
    "data = {'M': len(read_data)}\n",
    "model_prior_params_val = model_prior_params.sampling(data=data,seed=1052020,algorithm=\"Fixed_param\",iter=1000, warmup=0,chains=1)"
   ]
  },
  {
   "cell_type": "code",
   "execution_count": 182,
   "metadata": {},
   "outputs": [],
   "source": [
    "lambda_prior_params = model_prior_params_val.extract()['lambda']\n",
    "y_prior_params = model_prior_params_val.extract()['y_sim']"
   ]
  },
  {
   "cell_type": "markdown",
   "metadata": {},
   "source": [
    "Plotting both half-normal and predictive prior distribution."
   ]
  },
  {
   "cell_type": "code",
   "execution_count": 185,
   "metadata": {},
   "outputs": [
    {
     "data": {
      "image/png": "[encoded data removed]",
      "text/plain": [
       "<Figure size 504x576 with 1 Axes>"
      ]
     },
     "metadata": {
      "needs_background": "light"
     },
     "output_type": "display_data"
    }
   ],
   "source": [
    "fig, ax1 = plt.subplots(1, 1,figsize=(7, 8))\n",
    "ax1.hist(lambda_prior_params, bins=20, density=True, label = 'Prior predictive')\n",
    "x=np.linspace(0,1000,20000)\n",
    "ax1.set_xticks([0,lam_ub[0]])\n",
    "ax1.set_yticks([])\n",
    "ax1.set_title(r'$\\lambda$')\n",
    "ax1.plot(x,2*stats.norm.pdf(x,0,253), label = 'Half-normal distribution')\n",
    "ax1.legend(prop = {'size': 10})\n",
    "\n",
    "plt.show()"
   ]
  },
  {
   "cell_type": "markdown",
   "metadata": {},
   "source": [
    "* Posterior distribution"
   ]
  },
  {
   "cell_type": "markdown",
   "metadata": {},
   "source": [
    "Now we are creating posterior model."
   ]
  },
  {
   "cell_type": "code",
   "execution_count": 186,
   "metadata": {},
   "outputs": [
    {
     "name": "stdout",
     "output_type": "stream",
     "text": [
      "data {\n",
      "    int M;\n",
      "    int y[M];\n",
      "}\n",
      "parameters {\n",
      "    real<lower=0>lambda;\n",
      "}\n",
      "model {\n",
      "    lambda ~ normal(0, 253);\n",
      "    for (k in 1:M) {\n",
      "        y[k] ~ poisson(lambda);\n",
      "    }\n",
      "}\n",
      "generated quantities {\n",
      "    int y_sim[M];\n",
      "    for (k in 1:M) {\n",
      "        y_sim[k] = poisson_rng(lambda);\n",
      "    }\n",
      "}\n"
     ]
    }
   ],
   "source": [
    "with open('zad1_posterior.stan', 'r') as file:\n",
    "    print(file.read())"
   ]
  },
  {
   "cell_type": "code",
   "execution_count": 187,
   "metadata": {},
   "outputs": [
    {
     "name": "stderr",
     "output_type": "stream",
     "text": [
      "INFO:pystan:COMPILING THE C++ CODE FOR MODEL anon_model_9e142190e3f55aa7d4b9336c4a1ab306 NOW.\n"
     ]
    }
   ],
   "source": [
    "model_posterior = StanModel('zad1_posterior.stan')\n",
    "data = {'M': len(read_data), 'y': read_data[' Passenger deaths']}\n",
    "model_posterior_val = model_posterior.sampling(data=data)"
   ]
  },
  {
   "cell_type": "markdown",
   "metadata": {},
   "source": [
    "We are able to calculate the mean and interval in which 99% of probability, that less than 2 passangers per day will die, is located."
   ]
  },
  {
   "cell_type": "code",
   "execution_count": 188,
   "metadata": {},
   "outputs": [
    {
     "data": {
      "text/plain": [
       "array([668.2218347 , 711.83319362])"
      ]
     },
     "execution_count": 188,
     "metadata": {},
     "output_type": "execute_result"
    }
   ],
   "source": [
    "lambda_posterior = model_posterior_val.extract()['lambda']\n",
    "y_posterior = model_posterior_val.extract()['y_sim'].flatten()\n",
    "y_interval = az.hpd(lambda_posterior,0.99)\n",
    "y_interval"
   ]
  },
  {
   "cell_type": "code",
   "execution_count": 189,
   "metadata": {},
   "outputs": [
    {
     "name": "stdout",
     "output_type": "stream",
     "text": [
      "Mean lambda: 691.1940177619048\n",
      "909% confidence: [668.2218346987045 711.8331936164341]\n"
     ]
    }
   ],
   "source": [
    "print('Mean lambda: ' + str(np.mean(lambda_posterior)))\n",
    "print('909% confidence: ['+ str(y_interval[0]) + ' ' + str(y_interval[1]) +']')"
   ]
  },
  {
   "cell_type": "markdown",
   "metadata": {},
   "source": [
    "Now we are plotting in order to present calculated values."
   ]
  },
  {
   "cell_type": "markdown",
   "metadata": {},
   "source": [
    "a) Poisson distribution - interval bounds are marked"
   ]
  },
  {
   "cell_type": "code",
   "execution_count": 190,
   "metadata": {},
   "outputs": [
    {
     "data": {
      "image/png": "[encoded data removed]",
      "text/plain": [
       "<Figure size 432x288 with 1 Axes>"
      ]
     },
     "metadata": {
      "needs_background": "light"
     },
     "output_type": "display_data"
    }
   ],
   "source": [
    "fig, ax2 = plt.subplots(1, 1)\n",
    "ax2.set_title('Lambda posterior')\n",
    "ax2.hist(lambda_posterior, histtype = 'step', bins = 50)\n",
    "ax2.set_xticks([y_interval[0], y_interval[1]])\n",
    "plt.show()"
   ]
  },
  {
   "cell_type": "markdown",
   "metadata": {},
   "source": [
    "Prediction of death rate from the model."
   ]
  },
  {
   "cell_type": "code",
   "execution_count": 191,
   "metadata": {},
   "outputs": [
    {
     "name": "stdout",
     "output_type": "stream",
     "text": [
      "Mean: 691.0\n",
      "Interval: [623.0,764.0]\n"
     ]
    }
   ],
   "source": [
    "predict_mean = np.median(y_posterior)\n",
    "predict_interval = az.hpd(y_posterior, 0.99)\n",
    "print('Mean: ' + str(predict_mean))\n",
    "print('Interval: [' + str(predict_interval[0]) + ',' + str(predict_interval[1]) + ']')"
   ]
  },
  {
   "cell_type": "markdown",
   "metadata": {},
   "source": [
    "### Exercise 2"
   ]
  },
  {
   "cell_type": "markdown",
   "metadata": {},
   "source": [
    "The intensity is constant, but rate is a product of intensity and miles flown."
   ]
  },
  {
   "cell_type": "markdown",
   "metadata": {},
   "source": [
    "* Prior distribution"
   ]
  },
  {
   "cell_type": "markdown",
   "metadata": {},
   "source": [
    "Now we want to create Poisson distribution with rate(theta), which is dependent on other parameter(intensity and miles flown). We can calculate lambda by solving polynomial equation which contains additional information:\n",
    "n - mean of miles flown. We are looking for theta parameter for which is less then 1% of probability that 2 passangers will die per day."
   ]
  },
  {
   "cell_type": "code",
   "execution_count": 192,
   "metadata": {},
   "outputs": [
    {
     "name": "stdout",
     "output_type": "stream",
     "text": [
      "Root: [0.11430065]\n"
     ]
    }
   ],
   "source": [
    "mean_miles=np.mean(read_data['Miles flown [100 mln miles]'])\n",
    "root_of_theta=np.polynomial.polynomial.polyroots([-730/mean_miles,3./np.sqrt(mean_miles),1.])\n",
    "lam_ub=(root_of_theta[root_of_lam>0]**2)\n",
    "print(\"Root: \"+ str(lam_ub))"
   ]
  },
  {
   "cell_type": "markdown",
   "metadata": {},
   "source": [
    "Stan model looks the same as model in exercise 1, so we are using that one with a assumption of lambda parameter."
   ]
  },
  {
   "cell_type": "code",
   "execution_count": 193,
   "metadata": {},
   "outputs": [
    {
     "name": "stdout",
     "output_type": "stream",
     "text": [
      "functions {\n",
      "  vector tail_delta(vector y, vector theta, real[] x_r, int[] x_i) {\n",
      "    vector[1] deltas;\n",
      "    deltas[1] = 2 * (normal_cdf(theta[1], 0, exp(y[1])) - 0.5) - 0.99;\n",
      "    return deltas;\n",
      "  }\n",
      "}\n",
      "\n",
      "data {\n",
      "  vector[1] y_guess; \n",
      "  vector[1] theta;\n",
      "}\n",
      "\n",
      "transformed data {\n",
      "\n",
      "  vector[1] y;\n",
      "  real x_r[0];\n",
      "  int x_i[0];\n",
      "\n",
      "  y = algebra_solver(tail_delta, y_guess, theta, x_r, x_i);\n",
      "}\n",
      "\n",
      "generated quantities {\n",
      "  real sigma = exp(y[1]);\n",
      "}\n"
     ]
    }
   ],
   "source": [
    "with open('zad1.stan', 'r') as file:\n",
    "    print(file.read())"
   ]
  },
  {
   "cell_type": "code",
   "execution_count": 194,
   "metadata": {},
   "outputs": [
    {
     "name": "stderr",
     "output_type": "stream",
     "text": [
      "INFO:pystan:COMPILING THE C++ CODE FOR MODEL anon_model_d2883caa00e87b52d6a3c385661ce469 NOW.\n"
     ]
    }
   ],
   "source": [
    "model_prior_no_params = StanModel('zad1.stan')\n",
    "data = {'y_guess': np.array([np.log(0.1)]), 'theta': np.array([0.11430065])}\n",
    "modelmodel_prior_no_params_val = model_prior_no_params.sampling(data=data,seed=1052020,algorithm=\"Fixed_param\",iter=1000, warmup=0,chains=1)"
   ]
  },
  {
   "cell_type": "code",
   "execution_count": 195,
   "metadata": {},
   "outputs": [
    {
     "name": "stdout",
     "output_type": "stream",
     "text": [
      "Sigma: 0.044374310767611745\n"
     ]
    }
   ],
   "source": [
    "sigma = modelmodel_prior_no_params_val.extract()['sigma'][0]\n",
    "print(\"Sigma: \" + str(sigma))"
   ]
  },
  {
   "cell_type": "code",
   "execution_count": 196,
   "metadata": {},
   "outputs": [
    {
     "data": {
      "image/png": "[encoded data removed]",
      "text/plain": [
       "<Figure size 432x288 with 1 Axes>"
      ]
     },
     "metadata": {
      "needs_background": "light"
     },
     "output_type": "display_data"
    }
   ],
   "source": [
    "fig, ax2 = plt.subplots(1, 1)\n",
    "x2=np.linspace(0,3*sigma,1000)\n",
    "x4=np.linspace(0,lam_ub[0],1000)\n",
    "ax2.plot(x2,2*stats.norm.pdf(x2,scale=sigma))\n",
    "ax2.fill_between(x4,2*stats.norm.pdf(x4,scale=sigma),0)\n",
    "ax2.set_xticks([0,lam_ub[0]])\n",
    "ax2.set_title(r'$\\theta$')\n",
    "plt.show()"
   ]
  },
  {
   "cell_type": "markdown",
   "metadata": {},
   "source": [
    "* Prior predictive distribution based on prior information (number of years, miles flown).\n",
    "Half-normal distribution with interval (0, 0.04) will guarantee us 99% of probability below 0.11."
   ]
  },
  {
   "cell_type": "code",
   "execution_count": 197,
   "metadata": {},
   "outputs": [
    {
     "name": "stdout",
     "output_type": "stream",
     "text": [
      "data {\n",
      "  int M;\n",
      "  vector[M] miles;\n",
      "}\n",
      "\n",
      "generated quantities {\n",
      "  real theta=fabs(normal_rng(0,0.044));\n",
      "  int y_sim[M];\n",
      "  for (k in 1:M) {\n",
      "    y_sim[k] = poisson_rng(theta*miles[k]);\n",
      "  }\n",
      "}\n"
     ]
    }
   ],
   "source": [
    "with open('zad2_prior_predective.stan', 'r') as file:\n",
    "    print(file.read())"
   ]
  },
  {
   "cell_type": "code",
   "execution_count": 199,
   "metadata": {},
   "outputs": [
    {
     "name": "stderr",
     "output_type": "stream",
     "text": [
      "INFO:pystan:COMPILING THE C++ CODE FOR MODEL anon_model_021772cd3e1b5f7f6157f00b2fa3c67d NOW.\n"
     ]
    }
   ],
   "source": [
    "model_prior_params = StanModel('zad2_prior_predective.stan')\n",
    "data = {'M': len(read_data), 'miles': read_data['Miles flown [100 mln miles]']}\n",
    "model_prior_params_val = model_prior_params.sampling(data=data,seed=1052020,algorithm=\"Fixed_param\",iter=1000, warmup=0,chains=1)"
   ]
  },
  {
   "cell_type": "code",
   "execution_count": 200,
   "metadata": {},
   "outputs": [],
   "source": [
    "theta_prior_params = model_prior_params_val.extract()['theta']\n",
    "y_prior_params = model_prior_params_val.extract()['y_sim']"
   ]
  },
  {
   "cell_type": "code",
   "execution_count": 201,
   "metadata": {},
   "outputs": [
    {
     "data": {
      "image/png": "[encoded data removed]",
      "text/plain": [
       "<Figure size 504x576 with 1 Axes>"
      ]
     },
     "metadata": {
      "needs_background": "light"
     },
     "output_type": "display_data"
    }
   ],
   "source": [
    "fig, ax1 = plt.subplots(1, 1,figsize=(7, 8))\n",
    "ax1.hist(theta_prior_params, bins=20, density=True, label = 'Prior predictive')\n",
    "x=np.linspace(0,0.15)\n",
    "ax1.set_xticks([0,lam_ub[0]])\n",
    "ax1.set_yticks([])\n",
    "ax1.set_title(r'$\\theta$')\n",
    "ax1.plot(x,2*stats.norm.pdf(x,0,0.04), label = 'Half-normal distribution')\n",
    "ax1.legend(prop = {'size': 10})\n",
    "\n",
    "plt.show()"
   ]
  },
  {
   "cell_type": "markdown",
   "metadata": {},
   "source": [
    "* Posterior distribution"
   ]
  },
  {
   "cell_type": "markdown",
   "metadata": {},
   "source": [
    "Now we are able to prepare posterior interference."
   ]
  },
  {
   "cell_type": "code",
   "execution_count": 202,
   "metadata": {},
   "outputs": [
    {
     "name": "stdout",
     "output_type": "stream",
     "text": [
      "data {\n",
      "    int M;\n",
      "    vector[M] miles;\n",
      "    int y[M];\n",
      "}\n",
      "parameters {\n",
      "    real<lower=0>theta;\n",
      "}\n",
      "model {\n",
      "    theta ~ normal(0, 0.044);\n",
      "    for (k in 1:M) {\n",
      "        y[k] ~ poisson(miles[k]*theta);\n",
      "    }\n",
      "}\n",
      "generated quantities {\n",
      "    int y_sim[M];\n",
      "    for (k in 1:M) {\n",
      "        y_sim[k] = poisson_rng(miles[k]*theta);\n",
      "    }\n",
      "}\n"
     ]
    }
   ],
   "source": [
    "with open('zad2_posterior.stan', 'r') as file:\n",
    "    print(file.read())"
   ]
  },
  {
   "cell_type": "code",
   "execution_count": 203,
   "metadata": {},
   "outputs": [
    {
     "name": "stderr",
     "output_type": "stream",
     "text": [
      "INFO:pystan:COMPILING THE C++ CODE FOR MODEL anon_model_5cd0324e85210abf95d5e06db85a29f2 NOW.\n"
     ]
    }
   ],
   "source": [
    "model_posterior = StanModel('zad2_posterior.stan')\n",
    "data = {'M': len(read_data), 'miles': read_data['Miles flown [100 mln miles]'], 'y': read_data[' Passenger deaths']}\n",
    "model_posterior_val = model_posterior.sampling(data=data)"
   ]
  },
  {
   "cell_type": "code",
   "execution_count": 204,
   "metadata": {},
   "outputs": [
    {
     "data": {
      "text/plain": [
       "array([0.11702942, 0.12440858])"
      ]
     },
     "execution_count": 204,
     "metadata": {},
     "output_type": "execute_result"
    }
   ],
   "source": [
    "theta_posterior = model_posterior_val.extract()['theta']\n",
    "y_posterior = model_posterior_val.extract()['y_sim'].flatten()\n",
    "y_interval = az.hpd(theta_posterior,0.99)\n",
    "y_interval"
   ]
  },
  {
   "cell_type": "code",
   "execution_count": 205,
   "metadata": {},
   "outputs": [
    {
     "name": "stdout",
     "output_type": "stream",
     "text": [
      "Mean theta: 691.1940177619048\n",
      "909% confidence: [0.11702941792024313 0.1244085803801455]\n"
     ]
    }
   ],
   "source": [
    "print('Mean theta: ' + str(np.mean(lambda_posterior)))\n",
    "print('909% confidence: ['+ str(y_interval[0]) + ' ' + str(y_interval[1]) +']')"
   ]
  },
  {
   "cell_type": "markdown",
   "metadata": {},
   "source": [
    "We are plotting theta - posterioir with interval bounds marked. Interval bounds shows bound of probability equal to 99%."
   ]
  },
  {
   "cell_type": "code",
   "execution_count": 206,
   "metadata": {},
   "outputs": [
    {
     "data": {
      "image/png": "[encoded data removed]",
      "text/plain": [
       "<Figure size 432x288 with 1 Axes>"
      ]
     },
     "metadata": {
      "needs_background": "light"
     },
     "output_type": "display_data"
    }
   ],
   "source": [
    "fig, ax2 = plt.subplots(1, 1)\n",
    "ax2.set_title('Theta posterior')\n",
    "ax2.hist(theta_posterior, histtype = 'step', bins = 50)\n",
    "ax2.set_xticks([y_interval[0], y_interval[1]])\n",
    "plt.show()"
   ]
  },
  {
   "cell_type": "markdown",
   "metadata": {},
   "source": [
    "* Using our model"
   ]
  },
  {
   "cell_type": "markdown",
   "metadata": {},
   "source": [
    "Now we might predict passengers deaths in 1986 (out of read_data)."
   ]
  },
  {
   "cell_type": "code",
   "execution_count": 207,
   "metadata": {},
   "outputs": [
    {
     "name": "stdout",
     "output_type": "stream",
     "text": [
      "data {\n",
      "    int M;\n",
      "    vector[M] miles;\n",
      "    int y[M];\n",
      "}\n",
      "parameters {\n",
      "    real<lower=0>theta;\n",
      "}\n",
      "model {\n",
      "    theta ~ normal(0, 0.11);\n",
      "    for (k in 1:M) {\n",
      "        y[k] ~ poisson(miles[k]*theta);\n",
      "    }\n",
      "}\n",
      "generated quantities {\n",
      "    int y1986 = poisson_rng(9100*theta);\n",
      "}\n"
     ]
    }
   ],
   "source": [
    "with open('usage.stan', 'r') as file:\n",
    "    print(file.read())"
   ]
  },
  {
   "cell_type": "code",
   "execution_count": 208,
   "metadata": {},
   "outputs": [
    {
     "name": "stderr",
     "output_type": "stream",
     "text": [
      "INFO:pystan:COMPILING THE C++ CODE FOR MODEL anon_model_3ed13c7b6e7309594617caa33d8fceef NOW.\n"
     ]
    }
   ],
   "source": [
    "model_posterior = StanModel('usage.stan')\n",
    "data = {'M': len(read_data), 'miles': read_data['Miles flown [100 mln miles]'], 'y': read_data[' Passenger deaths']}\n",
    "model_posterior_val = model_posterior.sampling(data=data)"
   ]
  },
  {
   "cell_type": "code",
   "execution_count": 209,
   "metadata": {},
   "outputs": [
    {
     "name": "stdout",
     "output_type": "stream",
     "text": [
      "Mean theta: 691.1940177619048\n",
      "99% confidence: [0.11766340714604083 0.1251231297021948]\n"
     ]
    }
   ],
   "source": [
    "theta_posterior = model_posterior_val.extract()['theta']\n",
    "y_posterior_usage = model_posterior_val.extract()['y1986'].flatten()\n",
    "y_interval = az.hpd(theta_posterior,0.99)\n",
    "print('Mean theta: ' + str(np.mean(lambda_posterior)))\n",
    "print('99% confidence: ['+ str(y_interval[0]) + ' ' + str(y_interval[1]) +']')"
   ]
  },
  {
   "cell_type": "code",
   "execution_count": 210,
   "metadata": {},
   "outputs": [
    {
     "data": {
      "image/png": "[encoded data removed]",
      "text/plain": [
       "<Figure size 504x288 with 1 Axes>"
      ]
     },
     "metadata": {
      "needs_background": "light"
     },
     "output_type": "display_data"
    }
   ],
   "source": [
    "fig, ax = plt.subplots(1, 1, figsize=(7, 4))\n",
    "ax.hist(y_posterior_usage,bins=20,density=True)\n",
    "ax.set_title('1986')\n",
    "plt.show()"
   ]
  },
  {
   "cell_type": "code",
   "execution_count": null,
   "metadata": {},
   "outputs": [],
   "source": []
  }
 ],
 "metadata": {
  "kernelspec": {
   "display_name": "Python 3",
   "language": "python",
   "name": "python3"
  },
  "language_info": {
   "codemirror_mode": {
    "name": "ipython",
    "version": 3
   },
   "file_extension": ".py",
   "mimetype": "text/x-python",
   "name": "python",
   "nbconvert_exporter": "python",
   "pygments_lexer": "ipython3",
   "version": "3.7.6"
  }
 },
 "nbformat": 4,
 "nbformat_minor": 4
}
