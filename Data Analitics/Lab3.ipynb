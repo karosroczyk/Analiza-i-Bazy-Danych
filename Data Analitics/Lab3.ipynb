{
 "cells": [
  {
   "cell_type": "code",
   "execution_count": 2,
   "metadata": {},
   "outputs": [],
   "source": [
    "import sys\n",
    "sys.path.append('../')\n",
    "import pystan\n",
    "import stan_utility\n",
    "\n",
    "import arviz as az\n",
    "import numpy as np\n",
    "import scipy.stats as stats\n",
    "import pandas as pd\n",
    "import matplotlib.pyplot as plt"
   ]
  },
  {
   "cell_type": "markdown",
   "metadata": {},
   "source": [
    "### Exercise 1"
   ]
  },
  {
   "cell_type": "markdown",
   "metadata": {},
   "source": [
    "* Gamma prior distribution"
   ]
  },
  {
   "cell_type": "markdown",
   "metadata": {},
   "source": [
    "Firstly, there is a need to prepere prior distribution. Parameters are set due to own speculations and intuition."
   ]
  },
  {
   "cell_type": "code",
   "execution_count": 3,
   "metadata": {},
   "outputs": [
    {
     "name": "stdout",
     "output_type": "stream",
     "text": [
      "data {\n",
      "\tvector[2] params; \n",
      "}\n",
      "\n",
      "generated quantities {\n",
      "  real y = gamma_rng (params[1], params[2]);\n",
      "}\n"
     ]
    }
   ],
   "source": [
    "with open('my_model_prior.stan', 'r') as file:\n",
    "    print(file.read())"
   ]
  },
  {
   "cell_type": "markdown",
   "metadata": {},
   "source": [
    "Parameters are set to: alpha = 1 and beta = 2"
   ]
  },
  {
   "cell_type": "code",
   "execution_count": 5,
   "metadata": {},
   "outputs": [
    {
     "name": "stderr",
     "output_type": "stream",
     "text": [
      "INFO:pystan:COMPILING THE C++ CODE FOR MODEL anon_model_656bbc4d88987fb6fc8bd7adc5eb5943 NOW.\n"
     ]
    }
   ],
   "source": [
    "from pystan import StanModel\n",
    "tuning2 = StanModel('my_model_prior.stan')\n",
    "\n",
    "params = [1, 2]\n",
    "data=dict(params = params)\n",
    "tuned2 = tuning2.sampling(data=data,\n",
    "                          seed=1052020,\n",
    "                          algorithm=\"Fixed_param\",\n",
    "                          iter=1000, \n",
    "                          warmup=0,\n",
    "                          chains=1)"
   ]
  },
  {
   "cell_type": "markdown",
   "metadata": {},
   "source": [
    "Now, after compiling the model, it is possible to plot results."
   ]
  },
  {
   "cell_type": "code",
   "execution_count": 24,
   "metadata": {},
   "outputs": [
    {
     "data": {
      "image/png": "[encoded data removed]",
      "text/plain": [
       "<Figure size 432x288 with 1 Axes>"
      ]
     },
     "metadata": {
      "needs_background": "light"
     },
     "output_type": "display_data"
    }
   ],
   "source": [
    "y = tuned2.extract()['y']\n",
    "plt.hist(y, 100, density=True, cumulative=False)\n",
    "plt.title('Gamma distribution')\n",
    "plt.grid()\n",
    "plt.xlabel('x')\n",
    "plt.ylabel('f(x)')\n",
    "plt.show()"
   ]
  },
  {
   "cell_type": "markdown",
   "metadata": {},
   "source": [
    "* Gamma likelihood distribution"
   ]
  },
  {
   "cell_type": "markdown",
   "metadata": {},
   "source": [
    "After creating prior distribution, stan's likelihood distribution may be compiled."
   ]
  },
  {
   "cell_type": "code",
   "execution_count": 64,
   "metadata": {},
   "outputs": [
    {
     "name": "stdout",
     "output_type": "stream",
     "text": [
      "functions {\n",
      "\n",
      "  vector tail_delta(vector y, vector params, real[] x_r, int[] x_i) {\n",
      "    vector[2] deltas;\n",
      "    deltas[1] = gamma_cdf(params[1], exp(y[1]), exp(y[2]));\n",
      "\tdeltas[2] = gamma_cdf(params[2], exp(y[1]), exp(y[2]))- 0.98;\n",
      "    return deltas;\n",
      "  }\n",
      "}\n",
      "\n",
      "data {\n",
      "  vector[2] y_guess;\n",
      "  vector[2] params; \n",
      "}\n",
      "\n",
      "transformed data {\n",
      "\n",
      "  vector[2] y;\n",
      "  real x_r[0];\n",
      "  int x_i[0];\n",
      "\n",
      "  y = algebra_solver(tail_delta, y_guess, params, x_r, x_i);\n",
      "}\n",
      "\n",
      "generated quantities {\n",
      "    real alpha = exp(y[1]);\n",
      "    real beta = exp(y[2]);\n",
      "}\n"
     ]
    }
   ],
   "source": [
    "with open('my_model.stan', 'r') as file:\n",
    "    print(file.read())"
   ]
  },
  {
   "cell_type": "markdown",
   "metadata": {},
   "source": [
    "Parameters are set such that: alpha = 5, beta = 10 as we want to have 98% probability beetwen that values."
   ]
  },
  {
   "cell_type": "code",
   "execution_count": 65,
   "metadata": {},
   "outputs": [
    {
     "name": "stdout",
     "output_type": "stream",
     "text": [
      "[2.07944154 0.        ]\n"
     ]
    }
   ],
   "source": [
    "params = np.array([5, 10])\n",
    "y_guess = np.array([np.log(8), np.log(1)])\n",
    "print(y_guess)"
   ]
  },
  {
   "cell_type": "code",
   "execution_count": 66,
   "metadata": {},
   "outputs": [
    {
     "name": "stderr",
     "output_type": "stream",
     "text": [
      "INFO:pystan:COMPILING THE C++ CODE FOR MODEL anon_model_786ab9a839a061cf718e13235bcebedd NOW.\n"
     ]
    },
    {
     "ename": "RuntimeError",
     "evalue": "Exception: algebra_solver: the norm of the algebraic function is: 6.67769e-006 but should be lower than the function tolerance: 1e-006. Consider decreasing the relative tolerance and increasing the max_num_steps.  (in 'my_model.stan' at line 22)\n",
     "output_type": "error",
     "traceback": [
      "\u001b[1;31m---------------------------------------------------------------------------\u001b[0m",
      "\u001b[1;31mRuntimeError\u001b[0m                              Traceback (most recent call last)",
      "\u001b[1;32m<ipython-input-66-bb94862da0b7>\u001b[0m in \u001b[0;36m<module>\u001b[1;34m\u001b[0m\n\u001b[0;32m      8\u001b[0m                           \u001b[0miter\u001b[0m\u001b[1;33m=\u001b[0m\u001b[1;36m1000\u001b[0m\u001b[1;33m,\u001b[0m\u001b[1;33m\u001b[0m\u001b[1;33m\u001b[0m\u001b[0m\n\u001b[0;32m      9\u001b[0m                           \u001b[0mwarmup\u001b[0m\u001b[1;33m=\u001b[0m\u001b[1;36m0\u001b[0m\u001b[1;33m,\u001b[0m\u001b[1;33m\u001b[0m\u001b[1;33m\u001b[0m\u001b[0m\n\u001b[1;32m---> 10\u001b[1;33m                           chains=1)\n\u001b[0m",
      "\u001b[1;32m~\\Anaconda3\\lib\\site-packages\\pystan\\model.py\u001b[0m in \u001b[0;36msampling\u001b[1;34m(self, data, pars, chains, iter, warmup, thin, seed, init, sample_file, diagnostic_file, verbose, algorithm, control, n_jobs, **kwargs)\u001b[0m\n\u001b[0;32m    756\u001b[0m                 \u001b[1;32mraise\u001b[0m \u001b[0mValueError\u001b[0m\u001b[1;33m(\u001b[0m\u001b[1;34m\"Warmup samples must be greater than 0 when adaptation is enabled (`adapt_engaged=True`)\"\u001b[0m\u001b[1;33m)\u001b[0m\u001b[1;33m\u001b[0m\u001b[1;33m\u001b[0m\u001b[0m\n\u001b[0;32m    757\u001b[0m         \u001b[0mseed\u001b[0m \u001b[1;33m=\u001b[0m \u001b[0mpystan\u001b[0m\u001b[1;33m.\u001b[0m\u001b[0mmisc\u001b[0m\u001b[1;33m.\u001b[0m\u001b[0m_check_seed\u001b[0m\u001b[1;33m(\u001b[0m\u001b[0mseed\u001b[0m\u001b[1;33m)\u001b[0m\u001b[1;33m\u001b[0m\u001b[1;33m\u001b[0m\u001b[0m\n\u001b[1;32m--> 758\u001b[1;33m         \u001b[0mfit\u001b[0m \u001b[1;33m=\u001b[0m \u001b[0mself\u001b[0m\u001b[1;33m.\u001b[0m\u001b[0mfit_class\u001b[0m\u001b[1;33m(\u001b[0m\u001b[0mdata\u001b[0m\u001b[1;33m,\u001b[0m \u001b[0mseed\u001b[0m\u001b[1;33m)\u001b[0m\u001b[1;33m\u001b[0m\u001b[1;33m\u001b[0m\u001b[0m\n\u001b[0m\u001b[0;32m    759\u001b[0m \u001b[1;33m\u001b[0m\u001b[0m\n\u001b[0;32m    760\u001b[0m         \u001b[0mm_pars\u001b[0m \u001b[1;33m=\u001b[0m \u001b[0mfit\u001b[0m\u001b[1;33m.\u001b[0m\u001b[0m_get_param_names\u001b[0m\u001b[1;33m(\u001b[0m\u001b[1;33m)\u001b[0m\u001b[1;33m\u001b[0m\u001b[1;33m\u001b[0m\u001b[0m\n",
      "\u001b[1;32mstanfit4anon_model_786ab9a839a061cf718e13235bcebedd_9155548018741996687.pyx\u001b[0m in \u001b[0;36mstanfit4anon_model_786ab9a839a061cf718e13235bcebedd_9155548018741996687.StanFit4Model.__cinit__\u001b[1;34m()\u001b[0m\n",
      "\u001b[1;31mRuntimeError\u001b[0m: Exception: algebra_solver: the norm of the algebraic function is: 6.67769e-006 but should be lower than the function tolerance: 1e-006. Consider decreasing the relative tolerance and increasing the max_num_steps.  (in 'my_model.stan' at line 22)\n"
     ]
    }
   ],
   "source": [
    "from pystan import StanModel\n",
    "tuning2 = StanModel('my_model.stan')\n",
    "\n",
    "data=dict(y_guess = y_guess, params = params)\n",
    "tuned2 = tuning2.sampling(data=data,\n",
    "                          seed=1052020,\n",
    "                          algorithm=\"Fixed_param\",\n",
    "                          iter=1000, \n",
    "                          warmup=0,\n",
    "                          chains=1)"
   ]
  },
  {
   "cell_type": "markdown",
   "metadata": {},
   "source": [
    "Counted by stan's model results are printed below."
   ]
  },
  {
   "cell_type": "code",
   "execution_count": 41,
   "metadata": {},
   "outputs": [
    {
     "name": "stdout",
     "output_type": "stream",
     "text": [
      "47.0\n",
      "7.0\n"
     ]
    }
   ],
   "source": [
    "alpha = np.round(tuned2.extract()['alpha'][0])\n",
    "print(alpha)\n",
    "beta = np.round(tuned2.extract()['beta'][0])\n",
    "print(beta)"
   ]
  },
  {
   "cell_type": "markdown",
   "metadata": {},
   "source": [
    "We can print gamma distribution and compare it with a prior model distribution."
   ]
  },
  {
   "cell_type": "code",
   "execution_count": 42,
   "metadata": {},
   "outputs": [
    {
     "data": {
      "image/png": "[encoded data removed]",
      "text/plain": [
       "<Figure size 432x288 with 1 Axes>"
      ]
     },
     "metadata": {
      "needs_background": "light"
     },
     "output_type": "display_data"
    }
   ],
   "source": [
    "samples = np.random.gamma(alpha, beta, 1000)\n",
    "plt.hist(samples, 100, density=True, cumulative=False)\n",
    "plt.title('Gamma distribution')\n",
    "plt.grid()\n",
    "plt.xlabel('x')\n",
    "plt.ylabel('f(x)')\n",
    "plt.show()"
   ]
  },
  {
   "cell_type": "markdown",
   "metadata": {},
   "source": [
    "* invGamma prior distribution"
   ]
  },
  {
   "cell_type": "markdown",
   "metadata": {},
   "source": [
    "When it comes to inv_gamma similar things are done as it is above with gamma distribution."
   ]
  },
  {
   "cell_type": "code",
   "execution_count": 67,
   "metadata": {},
   "outputs": [
    {
     "name": "stdout",
     "output_type": "stream",
     "text": [
      "data {\n",
      "\tvector[2] params; \n",
      "}\n",
      "\n",
      "generated quantities {\n",
      "  real y = inv_gamma_rng (params[1], params[2]);\n",
      "}\n"
     ]
    }
   ],
   "source": [
    "with open('inv-gamma-prior.stan', 'r') as file:\n",
    "    print(file.read())"
   ]
  },
  {
   "cell_type": "code",
   "execution_count": 68,
   "metadata": {},
   "outputs": [
    {
     "name": "stderr",
     "output_type": "stream",
     "text": [
      "INFO:pystan:COMPILING THE C++ CODE FOR MODEL anon_model_505ce17ab424a3cfab8dabcdda6344c4 NOW.\n"
     ]
    }
   ],
   "source": [
    "from pystan import StanModel\n",
    "tuning2 = StanModel('inv-gamma-prior.stan')\n",
    "\n",
    "params = [1, 2]\n",
    "data=dict(params = params)\n",
    "tuned2 = tuning2.sampling(data=data,\n",
    "                          seed=1052020,\n",
    "                          algorithm=\"Fixed_param\",\n",
    "                          iter=1000, \n",
    "                          warmup=0,\n",
    "                          chains=1)"
   ]
  },
  {
   "cell_type": "code",
   "execution_count": 70,
   "metadata": {},
   "outputs": [
    {
     "data": {
      "image/png": "[encoded data removed]",
      "text/plain": [
       "<Figure size 432x288 with 1 Axes>"
      ]
     },
     "metadata": {
      "needs_background": "light"
     },
     "output_type": "display_data"
    }
   ],
   "source": [
    "y = tuned2.extract()['y']\n",
    "plt.hist(y, 100, density=True, cumulative=False)\n",
    "plt.title('Inv_gamma distribution')\n",
    "plt.grid()\n",
    "plt.xlim(0, 200)\n",
    "plt.xlabel('x')\n",
    "plt.ylabel('f(x)')\n",
    "plt.show()"
   ]
  },
  {
   "cell_type": "markdown",
   "metadata": {},
   "source": [
    "* Inv_gamma likelihood distribution"
   ]
  },
  {
   "cell_type": "code",
   "execution_count": 71,
   "metadata": {},
   "outputs": [
    {
     "name": "stdout",
     "output_type": "stream",
     "text": [
      "functions {\n",
      "\n",
      "  vector tail_delta(vector y, vector params, real[] x_r, int[] x_i) {\n",
      "    vector[2] deltas;\n",
      "\tdeltas[1] = inv_gamma_cdf(params[1], exp(y[1]), exp(y[2]));\n",
      "    deltas[2] = inv_gamma_cdf(params[2], exp(y[1]), exp(y[2])) - 0.98;\n",
      "    return deltas;\n",
      "  }\n",
      "}\n",
      "\n",
      "data {\n",
      "  vector[2] y_guess;\n",
      "  vector[2] params; \n",
      "}\n",
      "\n",
      "transformed data {\n",
      "\n",
      "  vector[2] y;\n",
      "  real x_r[0];\n",
      "  int x_i[0];\n",
      "\n",
      "  y = algebra_solver(tail_delta, y_guess, params, x_r, x_i);\n",
      "}\n",
      "\n",
      "generated quantities {\n",
      "    real alpha = exp(y[1]);\n",
      "    real beta = exp(y[2]);\n",
      "}\n"
     ]
    }
   ],
   "source": [
    "with open('inv-gamma.stan', 'r') as file:\n",
    "    print(file.read())"
   ]
  },
  {
   "cell_type": "code",
   "execution_count": 72,
   "metadata": {},
   "outputs": [
    {
     "name": "stdout",
     "output_type": "stream",
     "text": [
      "[ 5 10]\n"
     ]
    }
   ],
   "source": [
    "params = np.array([5, 10])\n",
    "y_guess = np.array([np.log(8), np.log(1)])\n",
    "print(params)"
   ]
  },
  {
   "cell_type": "code",
   "execution_count": 73,
   "metadata": {},
   "outputs": [
    {
     "name": "stderr",
     "output_type": "stream",
     "text": [
      "INFO:pystan:COMPILING THE C++ CODE FOR MODEL anon_model_d6baf331aa9c08fd9de64902ae42bb01 NOW.\n"
     ]
    },
    {
     "ename": "ValueError",
     "evalue": "Exception: Exception: inv_gamma_cdf: Scale parameter is inf, but must be finite!  (in 'inv-gamma.stan' at line 5)\n  (in 'inv-gamma.stan' at line 22)\n",
     "output_type": "error",
     "traceback": [
      "\u001b[1;31m---------------------------------------------------------------------------\u001b[0m",
      "\u001b[1;31mValueError\u001b[0m                                Traceback (most recent call last)",
      "\u001b[1;32m<ipython-input-73-d638f7f74dc6>\u001b[0m in \u001b[0;36m<module>\u001b[1;34m\u001b[0m\n\u001b[0;32m      8\u001b[0m                           \u001b[0miter\u001b[0m\u001b[1;33m=\u001b[0m\u001b[1;36m1000\u001b[0m\u001b[1;33m,\u001b[0m\u001b[1;33m\u001b[0m\u001b[1;33m\u001b[0m\u001b[0m\n\u001b[0;32m      9\u001b[0m                           \u001b[0mwarmup\u001b[0m\u001b[1;33m=\u001b[0m\u001b[1;36m0\u001b[0m\u001b[1;33m,\u001b[0m\u001b[1;33m\u001b[0m\u001b[1;33m\u001b[0m\u001b[0m\n\u001b[1;32m---> 10\u001b[1;33m                           chains=1)\n\u001b[0m",
      "\u001b[1;32m~\\Anaconda3\\lib\\site-packages\\pystan\\model.py\u001b[0m in \u001b[0;36msampling\u001b[1;34m(self, data, pars, chains, iter, warmup, thin, seed, init, sample_file, diagnostic_file, verbose, algorithm, control, n_jobs, **kwargs)\u001b[0m\n\u001b[0;32m    756\u001b[0m                 \u001b[1;32mraise\u001b[0m \u001b[0mValueError\u001b[0m\u001b[1;33m(\u001b[0m\u001b[1;34m\"Warmup samples must be greater than 0 when adaptation is enabled (`adapt_engaged=True`)\"\u001b[0m\u001b[1;33m)\u001b[0m\u001b[1;33m\u001b[0m\u001b[1;33m\u001b[0m\u001b[0m\n\u001b[0;32m    757\u001b[0m         \u001b[0mseed\u001b[0m \u001b[1;33m=\u001b[0m \u001b[0mpystan\u001b[0m\u001b[1;33m.\u001b[0m\u001b[0mmisc\u001b[0m\u001b[1;33m.\u001b[0m\u001b[0m_check_seed\u001b[0m\u001b[1;33m(\u001b[0m\u001b[0mseed\u001b[0m\u001b[1;33m)\u001b[0m\u001b[1;33m\u001b[0m\u001b[1;33m\u001b[0m\u001b[0m\n\u001b[1;32m--> 758\u001b[1;33m         \u001b[0mfit\u001b[0m \u001b[1;33m=\u001b[0m \u001b[0mself\u001b[0m\u001b[1;33m.\u001b[0m\u001b[0mfit_class\u001b[0m\u001b[1;33m(\u001b[0m\u001b[0mdata\u001b[0m\u001b[1;33m,\u001b[0m \u001b[0mseed\u001b[0m\u001b[1;33m)\u001b[0m\u001b[1;33m\u001b[0m\u001b[1;33m\u001b[0m\u001b[0m\n\u001b[0m\u001b[0;32m    759\u001b[0m \u001b[1;33m\u001b[0m\u001b[0m\n\u001b[0;32m    760\u001b[0m         \u001b[0mm_pars\u001b[0m \u001b[1;33m=\u001b[0m \u001b[0mfit\u001b[0m\u001b[1;33m.\u001b[0m\u001b[0m_get_param_names\u001b[0m\u001b[1;33m(\u001b[0m\u001b[1;33m)\u001b[0m\u001b[1;33m\u001b[0m\u001b[1;33m\u001b[0m\u001b[0m\n",
      "\u001b[1;32mstanfit4anon_model_d6baf331aa9c08fd9de64902ae42bb01_4424391770966595785.pyx\u001b[0m in \u001b[0;36mstanfit4anon_model_d6baf331aa9c08fd9de64902ae42bb01_4424391770966595785.StanFit4Model.__cinit__\u001b[1;34m()\u001b[0m\n",
      "\u001b[1;31mValueError\u001b[0m: Exception: Exception: inv_gamma_cdf: Scale parameter is inf, but must be finite!  (in 'inv-gamma.stan' at line 5)\n  (in 'inv-gamma.stan' at line 22)\n"
     ]
    }
   ],
   "source": [
    "from pystan import StanModel\n",
    "model = StanModel('inv-gamma.stan')\n",
    "\n",
    "data=dict(y_guess = y_guess, params = params)\n",
    "model = model.sampling(data=data,\n",
    "                          seed=1052020,\n",
    "                          algorithm=\"Fixed_param\",\n",
    "                          iter=1000, \n",
    "                          warmup=0,\n",
    "                          chains=1)"
   ]
  },
  {
   "cell_type": "code",
   "execution_count": 55,
   "metadata": {},
   "outputs": [
    {
     "name": "stdout",
     "output_type": "stream",
     "text": [
      "47.0\n",
      "7.0\n"
     ]
    }
   ],
   "source": [
    "alpha = np.round(model.extract()['alpha'][0])\n",
    "print(alpha)\n",
    "beta = np.round(model.extract()['beta'][0])\n",
    "print(beta)"
   ]
  },
  {
   "cell_type": "markdown",
   "metadata": {},
   "source": [
    "### Exercise 2"
   ]
  },
  {
   "cell_type": "markdown",
   "metadata": {},
   "source": [
    "Starting with creating stan models for both, neg_binomial and poisson distribution. As thay have to have the same mean, functions takes the same value as a function parameter."
   ]
  },
  {
   "cell_type": "code",
   "execution_count": 83,
   "metadata": {},
   "outputs": [
    {
     "name": "stdout",
     "output_type": "stream",
     "text": [
      "\n",
      "data {\n",
      "  real mu; \n",
      "  real phi;\n",
      "}\n",
      "\n",
      "generated quantities {\n",
      "  real y_neg_binomial = neg_binomial_rng(mu, phi);\n",
      "  int y_poisson = poisson_rng(mu);\n",
      "}\n"
     ]
    }
   ],
   "source": [
    "with open('zad2.stan', 'r') as file:\n",
    "    print(file.read())"
   ]
  },
  {
   "cell_type": "markdown",
   "metadata": {},
   "source": [
    "Mean will be equal to 9."
   ]
  },
  {
   "cell_type": "code",
   "execution_count": 84,
   "metadata": {},
   "outputs": [
    {
     "name": "stderr",
     "output_type": "stream",
     "text": [
      "INFO:pystan:COMPILING THE C++ CODE FOR MODEL anon_model_672efa04dc558646a95ea4994dd490a3 NOW.\n"
     ]
    }
   ],
   "source": [
    "mu_ = 9\n",
    "phi_ = 0.1\n",
    "\n",
    "model = StanModel('zad2.stan')\n",
    "\n",
    "data=dict(mu = mu_, phi = phi_)\n",
    "model = model.sampling(data=data,\n",
    "                          seed=1052020,\n",
    "                          algorithm=\"Fixed_param\",\n",
    "                          iter=1000, \n",
    "                          warmup=0,\n",
    "                          chains=1)"
   ]
  },
  {
   "cell_type": "code",
   "execution_count": 85,
   "metadata": {},
   "outputs": [],
   "source": [
    "neg_bin_values = model.extract()['y_neg_binomial']\n",
    "poisson_values = model.extract()['y_poisson']"
   ]
  },
  {
   "cell_type": "markdown",
   "metadata": {},
   "source": [
    "Now distributions are printed in order to be compared."
   ]
  },
  {
   "cell_type": "code",
   "execution_count": 88,
   "metadata": {},
   "outputs": [
    {
     "data": {
      "image/png": "[encoded data removed]",
      "text/plain": [
       "<Figure size 432x288 with 1 Axes>"
      ]
     },
     "metadata": {
      "needs_background": "light"
     },
     "output_type": "display_data"
    }
   ],
   "source": [
    "plt.hist(neg_bin_values, 100, density=True, cumulative=False)\n",
    "plt.title('Neg_binomial distribution')\n",
    "plt.grid()\n",
    "plt.xlabel('x')\n",
    "plt.ylabel('f(x)')\n",
    "plt.show()"
   ]
  },
  {
   "cell_type": "code",
   "execution_count": 89,
   "metadata": {},
   "outputs": [
    {
     "data": {
      "image/png": "[encoded data removed]",
      "text/plain": [
       "<Figure size 432x288 with 1 Axes>"
      ]
     },
     "metadata": {
      "needs_background": "light"
     },
     "output_type": "display_data"
    }
   ],
   "source": [
    "plt.hist(poisson_values, 100, density=True, cumulative=False)\n",
    "plt.title('Poisson distribution')\n",
    "plt.grid()\n",
    "plt.xlabel('x')\n",
    "plt.ylabel('f(x)')\n",
    "plt.show()"
   ]
  },
  {
   "cell_type": "markdown",
   "metadata": {},
   "source": [
    "We can see that Poisson distribution decreases much faster in comparison to neg_binomial distribution."
   ]
  },
  {
   "cell_type": "markdown",
   "metadata": {},
   "source": [
    "### Exercise 3"
   ]
  },
  {
   "cell_type": "markdown",
   "metadata": {},
   "source": [
    "Starting with creating stan models for both, student_t and normal distribution. Both distributions are using the same values of parameters."
   ]
  },
  {
   "cell_type": "code",
   "execution_count": 94,
   "metadata": {},
   "outputs": [
    {
     "name": "stdout",
     "output_type": "stream",
     "text": [
      "data {\n",
      "  vector[3] params; \n",
      "}\n",
      "\n",
      "generated quantities {\n",
      "\n",
      "real student_t_results = student_t_rng(params[1], params[2], params[3]);\n",
      "real normal_results = normal_rng(params[2], params[3]);\n",
      "}\n"
     ]
    }
   ],
   "source": [
    "with open('student_t.stan', 'r') as file:\n",
    "    print(file.read())"
   ]
  },
  {
   "cell_type": "markdown",
   "metadata": {},
   "source": [
    "Below we will see how changing different parameters influence distributions."
   ]
  },
  {
   "cell_type": "markdown",
   "metadata": {},
   "source": [
    "* Changing nu parameter "
   ]
  },
  {
   "cell_type": "markdown",
   "metadata": {},
   "source": [
    "We might print all distributions in order to compare them with each other and see how changing nu parameter has influenced them."
   ]
  },
  {
   "cell_type": "code",
   "execution_count": 116,
   "metadata": {},
   "outputs": [
    {
     "name": "stderr",
     "output_type": "stream",
     "text": [
      "INFO:pystan:COMPILING THE C++ CODE FOR MODEL anon_model_f82ea1e4d29c51ce238a32112c58d87c NOW.\n",
      "INFO:pystan:COMPILING THE C++ CODE FOR MODEL anon_model_f82ea1e4d29c51ce238a32112c58d87c NOW.\n",
      "INFO:pystan:COMPILING THE C++ CODE FOR MODEL anon_model_f82ea1e4d29c51ce238a32112c58d87c NOW.\n",
      "INFO:pystan:COMPILING THE C++ CODE FOR MODEL anon_model_f82ea1e4d29c51ce238a32112c58d87c NOW.\n",
      "INFO:pystan:COMPILING THE C++ CODE FOR MODEL anon_model_f82ea1e4d29c51ce238a32112c58d87c NOW.\n",
      "INFO:pystan:COMPILING THE C++ CODE FOR MODEL anon_model_f82ea1e4d29c51ce238a32112c58d87c NOW.\n"
     ]
    },
    {
     "data": {
      "image/png": "[encoded data removed]",
      "text/plain": [
       "<Figure size 720x288 with 1 Axes>"
      ]
     },
     "metadata": {
      "needs_background": "light"
     },
     "output_type": "display_data"
    }
   ],
   "source": [
    "model = StanModel('student_t.stan')\n",
    "fig, ax = plt.subplots(1, 1, figsize=(10, 4))\n",
    "\n",
    "for i in range(1, 6):\n",
    "    model = StanModel('student_t.stan')\n",
    "    data = dict(params = [i, 0, 1])\n",
    "    model = model.sampling(data=data,seed=1052020,algorithm=\"Fixed_param\",iter=1000, warmup=0,chains=1)\n",
    "    x = model.extract()['student_t_results']\n",
    "    plt.hist(x, bins = 50, histtype = 'step')\n",
    "plt.xlim(-70, 70)\n",
    "plt.legend(['nu = 1' ,'nu = 2', 'nu = 3', 'nu = 4', 'nu = 5', 'nu = 6'])\n",
    "plt.show()"
   ]
  },
  {
   "cell_type": "markdown",
   "metadata": {},
   "source": [
    "Now we are printing Normal distribution in order to be able to compare it with above student_t distributions. It is visible that "
   ]
  },
  {
   "cell_type": "code",
   "execution_count": 112,
   "metadata": {},
   "outputs": [
    {
     "name": "stderr",
     "output_type": "stream",
     "text": [
      "INFO:pystan:COMPILING THE C++ CODE FOR MODEL anon_model_f82ea1e4d29c51ce238a32112c58d87c NOW.\n"
     ]
    },
    {
     "data": {
      "text/plain": [
       "(array([ 2.,  1.,  0.,  1.,  2.,  0.,  3.,  9., 10., 12.,  8.,  5., 15.,\n",
       "        12., 29., 31., 33., 31., 32., 40., 61., 58., 41., 35., 52., 50.,\n",
       "        46., 45., 57., 44., 33., 37., 33., 25., 26., 11., 16.,  9., 13.,\n",
       "        14.,  3.,  2.,  3.,  3.,  1.,  3.,  0.,  1.,  1.,  1.]),\n",
       " array([-3.16042092, -3.0298504 , -2.89927989, -2.76870938, -2.63813886,\n",
       "        -2.50756835, -2.37699784, -2.24642733, -2.11585681, -1.9852863 ,\n",
       "        -1.85471579, -1.72414527, -1.59357476, -1.46300425, -1.33243374,\n",
       "        -1.20186322, -1.07129271, -0.9407222 , -0.81015168, -0.67958117,\n",
       "        -0.54901066, -0.41844015, -0.28786963, -0.15729912, -0.02672861,\n",
       "         0.10384191,  0.23441242,  0.36498293,  0.49555344,  0.62612396,\n",
       "         0.75669447,  0.88726498,  1.0178355 ,  1.14840601,  1.27897652,\n",
       "         1.40954703,  1.54011755,  1.67068806,  1.80125857,  1.93182909,\n",
       "         2.0623996 ,  2.19297011,  2.32354062,  2.45411114,  2.58468165,\n",
       "         2.71525216,  2.84582268,  2.97639319,  3.1069637 ,  3.23753421,\n",
       "         3.36810473]),\n",
       " <a list of 1 Patch objects>)"
      ]
     },
     "execution_count": 112,
     "metadata": {},
     "output_type": "execute_result"
    },
    {
     "data": {
      "image/png": "[encoded data removed]",
      "text/plain": [
       "<Figure size 432x288 with 1 Axes>"
      ]
     },
     "metadata": {
      "needs_background": "light"
     },
     "output_type": "display_data"
    }
   ],
   "source": [
    "model = StanModel('student_t.stan')\n",
    "data = dict(params = [1, 0, 1])\n",
    "model = model.sampling(data=data,seed=1052020,algorithm=\"Fixed_param\",iter=1000, warmup=0,chains=1)\n",
    "x = model.extract()['normal_results']\n",
    "plt.hist(x, bins = 50, histtype = 'step')"
   ]
  },
  {
   "cell_type": "markdown",
   "metadata": {},
   "source": [
    "We can see that the greater value is set to nu parameter, the more the distribution look like the normal one. "
   ]
  },
  {
   "cell_type": "markdown",
   "metadata": {},
   "source": [
    "* Changing mu parameter"
   ]
  },
  {
   "cell_type": "code",
   "execution_count": 118,
   "metadata": {},
   "outputs": [
    {
     "name": "stderr",
     "output_type": "stream",
     "text": [
      "INFO:pystan:COMPILING THE C++ CODE FOR MODEL anon_model_f82ea1e4d29c51ce238a32112c58d87c NOW.\n",
      "INFO:pystan:COMPILING THE C++ CODE FOR MODEL anon_model_f82ea1e4d29c51ce238a32112c58d87c NOW.\n",
      "INFO:pystan:COMPILING THE C++ CODE FOR MODEL anon_model_f82ea1e4d29c51ce238a32112c58d87c NOW.\n",
      "INFO:pystan:COMPILING THE C++ CODE FOR MODEL anon_model_f82ea1e4d29c51ce238a32112c58d87c NOW.\n",
      "INFO:pystan:COMPILING THE C++ CODE FOR MODEL anon_model_f82ea1e4d29c51ce238a32112c58d87c NOW.\n",
      "INFO:pystan:COMPILING THE C++ CODE FOR MODEL anon_model_f82ea1e4d29c51ce238a32112c58d87c NOW.\n"
     ]
    },
    {
     "data": {
      "image/png": "[encoded data removed]",
      "text/plain": [
       "<Figure size 720x288 with 1 Axes>"
      ]
     },
     "metadata": {
      "needs_background": "light"
     },
     "output_type": "display_data"
    }
   ],
   "source": [
    "model = StanModel('student_t.stan')\n",
    "fig, ax = plt.subplots(1, 1, figsize=(10, 4))\n",
    "\n",
    "for i in range(1, 6):\n",
    "    model = StanModel('student_t.stan')\n",
    "    data = dict(params = [1, i, 1])\n",
    "    model = model.sampling(data=data,seed=1052020,algorithm=\"Fixed_param\",iter=1000, warmup=0,chains=1)\n",
    "    x = model.extract()['student_t_results']\n",
    "    plt.hist(x, bins = 50, histtype = 'step')\n",
    "plt.xlim(-70, 70)\n",
    "plt.legend(['mu = 1' ,'mu = 2', 'mu = 3', 'mu = 4', 'mu = 5', 'mu = 6'])\n",
    "plt.show()"
   ]
  },
  {
   "cell_type": "markdown",
   "metadata": {},
   "source": [
    "Incrementing mu parameter couses moving the center (mean) to left or right, depending of whether the value is positive or negative."
   ]
  },
  {
   "cell_type": "markdown",
   "metadata": {},
   "source": [
    "* Changing sigma parameter"
   ]
  },
  {
   "cell_type": "code",
   "execution_count": 119,
   "metadata": {},
   "outputs": [
    {
     "name": "stderr",
     "output_type": "stream",
     "text": [
      "INFO:pystan:COMPILING THE C++ CODE FOR MODEL anon_model_f82ea1e4d29c51ce238a32112c58d87c NOW.\n",
      "INFO:pystan:COMPILING THE C++ CODE FOR MODEL anon_model_f82ea1e4d29c51ce238a32112c58d87c NOW.\n",
      "INFO:pystan:COMPILING THE C++ CODE FOR MODEL anon_model_f82ea1e4d29c51ce238a32112c58d87c NOW.\n",
      "INFO:pystan:COMPILING THE C++ CODE FOR MODEL anon_model_f82ea1e4d29c51ce238a32112c58d87c NOW.\n",
      "INFO:pystan:COMPILING THE C++ CODE FOR MODEL anon_model_f82ea1e4d29c51ce238a32112c58d87c NOW.\n",
      "INFO:pystan:COMPILING THE C++ CODE FOR MODEL anon_model_f82ea1e4d29c51ce238a32112c58d87c NOW.\n"
     ]
    },
    {
     "data": {
      "image/png": "[encoded data removed]",
      "text/plain": [
       "<Figure size 720x288 with 1 Axes>"
      ]
     },
     "metadata": {
      "needs_background": "light"
     },
     "output_type": "display_data"
    }
   ],
   "source": [
    "model = StanModel('student_t.stan')\n",
    "fig, ax = plt.subplots(1, 1, figsize=(10, 4))\n",
    "\n",
    "for i in range(1, 6):\n",
    "    model = StanModel('student_t.stan')\n",
    "    data = dict(params = [1, 0, i])\n",
    "    model = model.sampling(data=data,seed=1052020,algorithm=\"Fixed_param\",iter=1000, warmup=0,chains=1)\n",
    "    x = model.extract()['student_t_results']\n",
    "    plt.hist(x, bins = 50, histtype = 'step')\n",
    "plt.xlim(-70, 70)\n",
    "plt.legend(['sigma = 1' ,'sigma = 2', 'sigma = 3', 'sigma = 4', 'sigma = 5', 'sigma = 6'])\n",
    "plt.show()"
   ]
  },
  {
   "cell_type": "markdown",
   "metadata": {},
   "source": [
    "The greater value we set to sigma, the greater the range is."
   ]
  },
  {
   "cell_type": "markdown",
   "metadata": {},
   "source": [
    "* Changing numer of samples in order to check how mead and variance are changing "
   ]
  },
  {
   "cell_type": "code",
   "execution_count": 120,
   "metadata": {},
   "outputs": [
    {
     "name": "stderr",
     "output_type": "stream",
     "text": [
      "INFO:pystan:COMPILING THE C++ CODE FOR MODEL anon_model_f82ea1e4d29c51ce238a32112c58d87c NOW.\n",
      "INFO:pystan:COMPILING THE C++ CODE FOR MODEL anon_model_f82ea1e4d29c51ce238a32112c58d87c NOW.\n",
      "INFO:pystan:COMPILING THE C++ CODE FOR MODEL anon_model_f82ea1e4d29c51ce238a32112c58d87c NOW.\n",
      "INFO:pystan:COMPILING THE C++ CODE FOR MODEL anon_model_f82ea1e4d29c51ce238a32112c58d87c NOW.\n",
      "INFO:pystan:COMPILING THE C++ CODE FOR MODEL anon_model_f82ea1e4d29c51ce238a32112c58d87c NOW.\n"
     ]
    },
    {
     "data": {
      "image/png": "[encoded data removed]",
      "text/plain": [
       "<Figure size 720x288 with 1 Axes>"
      ]
     },
     "metadata": {
      "needs_background": "light"
     },
     "output_type": "display_data"
    }
   ],
   "source": [
    "model = StanModel('student_t.stan')\n",
    "fig, ax = plt.subplots(1, 1, figsize=(10, 4))\n",
    "data_values = [100, 500, 1000, 5000]\n",
    "\n",
    "for i in data_values:\n",
    "    model = StanModel('student_t.stan')\n",
    "    data = dict(params = [i, 0, 1])\n",
    "    model = model.sampling(data=data,seed=1052020,algorithm=\"Fixed_param\",iter=i, warmup=0,chains=1)\n",
    "    x = model.extract()['student_t_results']\n",
    "    plt.hist(x, bins = 50, histtype = 'step')\n",
    "plt.xlim(-70, 70)\n",
    "plt.legend(['iter = 100' ,'iter = 500', 'iter = 1000', 'iter = 5000'])\n",
    "plt.show()"
   ]
  },
  {
   "cell_type": "markdown",
   "metadata": {},
   "source": [
    "### Exercise 4"
   ]
  },
  {
   "cell_type": "code",
   "execution_count": 121,
   "metadata": {},
   "outputs": [
    {
     "name": "stdout",
     "output_type": "stream",
     "text": [
      "data {\n",
      "    vector[2] mu;\n",
      "    matrix[2, 2] sigma;\n",
      "}\n",
      "generated quantities {\n",
      "    vector[2] y = multi_normal_rng(mu, sigma);\n",
      "}\n"
     ]
    }
   ],
   "source": [
    "with open('multi_normal.stan', 'r') as file:\n",
    "    print(file.read())"
   ]
  },
  {
   "cell_type": "code",
   "execution_count": 124,
   "metadata": {},
   "outputs": [
    {
     "name": "stderr",
     "output_type": "stream",
     "text": [
      "INFO:pystan:COMPILING THE C++ CODE FOR MODEL anon_model_1ba3c7cd858044f25b8de80e17ce187e NOW.\n"
     ]
    }
   ],
   "source": [
    "model = StanModel('multi_normal.stan')\n",
    "data = {'mu': np.array([0, 0]), 'sigma': np.array([[1, 0.5], [0.5, 1]])}\n",
    "model = model.sampling(data=data,seed=1052020,algorithm=\"Fixed_param\",iter=i, warmup=0,chains=1)"
   ]
  },
  {
   "cell_type": "code",
   "execution_count": 144,
   "metadata": {},
   "outputs": [
    {
     "data": {
      "image/png": "[encoded data removed]",
      "text/plain": [
       "<Figure size 432x288 with 1 Axes>"
      ]
     },
     "metadata": {
      "needs_background": "light"
     },
     "output_type": "display_data"
    }
   ],
   "source": [
    "y = model.extract()['y']\n",
    "y = pd.DataFrame(y)\n",
    "y.columns = ['x', 'y']\n",
    "plt.hist2d(y['x'], y['y'], bins = 50)\n",
    "plt.show()"
   ]
  },
  {
   "cell_type": "code",
   "execution_count": 145,
   "metadata": {},
   "outputs": [
    {
     "name": "stderr",
     "output_type": "stream",
     "text": [
      "INFO:pystan:COMPILING THE C++ CODE FOR MODEL anon_model_f82ea1e4d29c51ce238a32112c58d87c NOW.\n",
      "INFO:pystan:COMPILING THE C++ CODE FOR MODEL anon_model_1ba3c7cd858044f25b8de80e17ce187e NOW.\n",
      "INFO:pystan:COMPILING THE C++ CODE FOR MODEL anon_model_1ba3c7cd858044f25b8de80e17ce187e NOW.\n",
      "INFO:pystan:COMPILING THE C++ CODE FOR MODEL anon_model_1ba3c7cd858044f25b8de80e17ce187e NOW.\n",
      "INFO:pystan:COMPILING THE C++ CODE FOR MODEL anon_model_1ba3c7cd858044f25b8de80e17ce187e NOW.\n",
      "INFO:pystan:COMPILING THE C++ CODE FOR MODEL anon_model_1ba3c7cd858044f25b8de80e17ce187e NOW.\n"
     ]
    },
    {
     "data": {
      "image/png": "[encoded data removed]",
      "text/plain": [
       "<Figure size 720x288 with 6 Axes>"
      ]
     },
     "metadata": {
      "needs_background": "light"
     },
     "output_type": "display_data"
    }
   ],
   "source": [
    "model = StanModel('student_t.stan')\n",
    "fig, ax = plt.subplots(2, 3, figsize=(10, 4))\n",
    "\n",
    "for i in range(1, 6):\n",
    "    model = StanModel('multi_normal.stan')\n",
    "    data = {'mu': np.array([0, i]), 'sigma': np.array([[1, 0.5], [0.5, 1]])}\n",
    "    model = model.sampling(data=data,seed=1052020,algorithm=\"Fixed_param\",iter=i, warmup=0,chains=1)\n",
    "    y = model.extract()['y']\n",
    "    y = pd.DataFrame(y)\n",
    "    y.columns = ['x', 'y']\n",
    "    plt.hist2d(y['x'], y['y'], bins = 50)\n",
    "\n",
    "plt.show()"
   ]
  },
  {
   "cell_type": "code",
   "execution_count": null,
   "metadata": {},
   "outputs": [],
   "source": []
  }
 ],
 "metadata": {
  "kernelspec": {
   "display_name": "Python 3",
   "language": "python",
   "name": "python3"
  },
  "language_info": {
   "codemirror_mode": {
    "name": "ipython",
    "version": 3
   },
   "file_extension": ".py",
   "mimetype": "text/x-python",
   "name": "python",
   "nbconvert_exporter": "python",
   "pygments_lexer": "ipython3",
   "version": "3.7.6"
  }
 },
 "nbformat": 4,
 "nbformat_minor": 4
}
